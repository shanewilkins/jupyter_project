{
 "cells": [
  {
   "cell_type": "markdown",
   "metadata": {},
   "source": [
    "# Options Strategy Back Testing\n",
    "#### Shane M. Wilkins\n",
    "\n",
    "## Introduction\n",
    "\n",
    "### Goal\n",
    "\n",
    "The goal of this study is to create datasets that can be used to test a variety of options strategies.\n",
    "\n",
    "### Table of Contents\n",
    "\n",
    "- Introduction\n",
    "- Description of Strategies to be Tested\n",
    "- Building Stocks, Options, and Portfolio\n",
    "- Generating Dummy Stock and Option Data\n",
    "- Implementation of Strategies\n",
    "- Scraping Real Dataset for Backtesting\n",
    "\n",
    "### Version History\n",
    "\n",
    "* v. 0.1 - 2020-09-24 Initial document creation\n",
    "\n",
    "### Development Roadmap\n",
    "\n",
    "TBD\n",
    "\n",
    "## Description of Strategies to be Tested\n",
    "\n",
    "TBD\n",
    "\n",
    "## Building Stocks, Options, and Portfolio\n",
    "\n",
    "In this section of the study, we will create the classes we will use throughout the rest of the study."
   ]
  },
  {
   "cell_type": "code",
   "execution_count": null,
   "metadata": {},
   "outputs": [],
   "source": [
    "class History:\n",
    "    \"\"\" A stock's *History* is a list of tuples containing a date, the open price, \n",
    "        close price, lowest price, highest price, and daily volume like \n",
    "        [(2020-01-01, 12.10, 12.20, 12.05, 12.25, 10000), (2020-01-02, ...). I'm keeping \n",
    "        all those data elements as strings at the moment, but not enforcing that in case\n",
    "        I change my mind ...\"\"\"\n",
    "    \n",
    "    def __init__(self):\n",
    "        self.history = []\n",
    "             \n",
    "    def add_daily_data(self, date, open, close, low, high, volume):\n",
    "        entry = (date, open, close, low, high, volume)\n",
    "        self.history.append(entry)"
   ]
  },
  {
   "cell_type": "code",
   "execution_count": null,
   "metadata": {},
   "outputs": [],
   "source": [
    "class Stock:\n",
    "    \"\"\" A stock has a *symbol* which is a string like 'XYZ' and a \n",
    "        *history* \"\"\"\n",
    "    \n",
    "    def __init__(self,symbol,price_history): \n",
    "        self.symbol = symbol.upper() # I like the ticker symbols to be all uppercase :)\n",
    "        self.price_history = price_history\n",
    "\n",
    "        "
   ]
  },
  {
   "cell_type": "code",
   "execution_count": null,
   "metadata": {},
   "outputs": [],
   "source": [
    "class Option: \n",
    "    \"\"\" An option has a symbol, an expiration date, strike, and type\"\"\"\n",
    "    \n",
    "    def __init__(self,symbol,expiration,strike,type):\n",
    "        self.symbol = symbol.upper()\n",
    "        self.type = type\n",
    "        self.expiration = expiration\n",
    "        self.strike = strike\n",
    "        \n",
    "        "
   ]
  },
  {
   "cell_type": "code",
   "execution_count": null,
   "metadata": {},
   "outputs": [],
   "source": [
    "class Portfolio:\n",
    "    \"\"\"Docstring here.\"\"\""
   ]
  },
  {
   "cell_type": "code",
   "execution_count": null,
   "metadata": {},
   "outputs": [],
   "source": [
    "# Testing it out\n",
    "h = History()\n",
    "h.add_daily_data('2020-01-01','12.10','12.15','12.05','12.20','10000')\n",
    "h.add_daily_data('2020-01-02','12.20','12.25','12.10','12.30','15000')\n",
    "h.add_daily_data('2020-01-03','12.15','12.00','11.95','12.25','20000')\n",
    "\n",
    "xyz = Stock('xyz',h)\n",
    "\n",
    "opt = Option(\"xyz\",\"2020-01-03\",\"110.00\",\"put\")"
   ]
  },
  {
   "cell_type": "code",
   "execution_count": null,
   "metadata": {},
   "outputs": [],
   "source": [
    "import pandas as pd\n",
    "import seaborn as sns"
   ]
  },
  {
   "cell_type": "code",
   "execution_count": null,
   "metadata": {},
   "outputs": [],
   "source": []
  },
  {
   "cell_type": "code",
   "execution_count": null,
   "metadata": {},
   "outputs": [],
   "source": []
  },
  {
   "cell_type": "code",
   "execution_count": null,
   "metadata": {},
   "outputs": [],
   "source": [
    "raw = pd.read_csv('./data/shareprices.csv')"
   ]
  },
  {
   "cell_type": "code",
   "execution_count": null,
   "metadata": {},
   "outputs": [],
   "source": [
    "raw.head()"
   ]
  },
  {
   "cell_type": "code",
   "execution_count": null,
   "metadata": {},
   "outputs": [],
   "source": [
    "sns.set_style(\"darkgrid\")\n",
    "sns.lineplot(x = 'date', y = '  C', data = raw)"
   ]
  },
  {
   "cell_type": "markdown",
   "metadata": {},
   "source": [
    "Adding another one here!!! asdf"
   ]
  }
 ],
 "metadata": {
  "kernelspec": {
   "display_name": "Python 3",
   "language": "python",
   "name": "python3"
  },
  "language_info": {
   "codemirror_mode": {
    "name": "ipython",
    "version": 3
   },
   "file_extension": ".py",
   "mimetype": "text/x-python",
   "name": "python",
   "nbconvert_exporter": "python",
   "pygments_lexer": "ipython3",
   "version": "3.7.3"
  }
 },
 "nbformat": 4,
 "nbformat_minor": 4
}
